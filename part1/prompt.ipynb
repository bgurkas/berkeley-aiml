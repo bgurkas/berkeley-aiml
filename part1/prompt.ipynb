{
  "cells": [
    {
      "cell_type": "markdown",
      "metadata": {
        "id": "CcUT6Fon_qRE"
      },
      "source": [
        "### Required Assignment 5.1: Will the Customer Accept the Coupon?\n",
        "\n",
        "**Context**\n",
        "\n",
        "Imagine driving through town and a coupon is delivered to your cell phone for a restaurant near where you are driving. Would you accept that coupon and take a short detour to the restaurant? Would you accept the coupon but use it on a subsequent trip? Would you ignore the coupon entirely? What if the coupon was for a bar instead of a restaurant? What about a coffee house? Would you accept a bar coupon with a minor passenger in the car? What about if it was just you and your partner in the car? Would weather impact the rate of acceptance? What about the time of day?\n",
        "\n",
        "Obviously, proximity to the business is a factor on whether the coupon is delivered to the driver or not, but what are the factors that determine whether a driver accepts the coupon once it is delivered to them? How would you determine whether a driver is likely to accept a coupon?\n",
        "\n",
        "**Overview**\n",
        "\n",
        "The goal of this project is to use what you know about visualizations and probability distributions to distinguish between customers who accepted a driving coupon versus those that did not.\n",
        "\n",
        "**Data**\n",
        "\n",
        "This data comes to us from the UCI Machine Learning repository and was collected via a survey on Amazon Mechanical Turk. The survey describes different driving scenarios including the destination, current time, weather, passenger, etc., and then ask the person whether he will accept the coupon if he is the driver. Answers that the user will drive there ‘right away’ or ‘later before the coupon expires’ are labeled as ‘Y = 1’ and answers ‘no, I do not want the coupon’ are labeled as ‘Y = 0’.  There are five different types of coupons -- less expensive restaurants (under \\$20), coffee houses, carry out & take away, bar, and more expensive restaurants (\\$20 - $50)."
      ]
    },
    {
      "cell_type": "markdown",
      "metadata": {
        "id": "1wORvMBJ_qRF"
      },
      "source": [
        "**Deliverables**\n",
        "\n",
        "Your final product should be a brief report that highlights the differences between customers who did and did not accept the coupons.  To explore the data you will utilize your knowledge of plotting, statistical summaries, and visualization using Python. You will publish your findings in a public facing github repository as your first portfolio piece.\n",
        "\n",
        "\n",
        "\n"
      ]
    },
    {
      "cell_type": "markdown",
      "metadata": {
        "id": "pG6_Ym6q_qRG"
      },
      "source": [
        "### Data Description\n",
        "Keep in mind that these values mentioned below are average values.\n",
        "\n",
        "The attributes of this data set include:\n",
        "1. User attributes\n",
        "    -  Gender: male, female\n",
        "    -  Age: below 21, 21 to 25, 26 to 30, etc.\n",
        "    -  Marital Status: single, married partner, unmarried partner, or widowed\n",
        "    -  Number of children: 0, 1, or more than 1\n",
        "    -  Education: high school, bachelors degree, associates degree, or graduate degree\n",
        "    -  Occupation: architecture & engineering, business & financial, etc.\n",
        "    -  Annual income: less than \\\\$12500, \\\\$12500 - \\\\$24999, \\\\$25000 - \\\\$37499, etc.\n",
        "    -  Number of times that he/she goes to a bar: 0, less than 1, 1 to 3, 4 to 8 or greater than 8\n",
        "    -  Number of times that he/she buys takeaway food: 0, less than 1, 1 to 3, 4 to 8 or greater\n",
        "    than 8\n",
        "    -  Number of times that he/she goes to a coffee house: 0, less than 1, 1 to 3, 4 to 8 or\n",
        "    greater than 8\n",
        "    -  Number of times that he/she eats at a restaurant with average expense less than \\\\$20 per\n",
        "    person: 0, less than 1, 1 to 3, 4 to 8 or greater than 8\n",
        "    -  Number of times that he/she goes to a bar: 0, less than 1, 1 to 3, 4 to 8 or greater than 8\n",
        "    \n",
        "\n",
        "2. Contextual attributes\n",
        "    - Driving destination: home, work, or no urgent destination\n",
        "    - Location of user, coupon and destination: we provide a map to show the geographical\n",
        "    location of the user, destination, and the venue, and we mark the distance between each\n",
        "    two places with time of driving. The user can see whether the venue is in the same\n",
        "    direction as the destination.\n",
        "    - Weather: sunny, rainy, or snowy\n",
        "    - Temperature: 30F, 55F, or 80F\n",
        "    - Time: 10AM, 2PM, or 6PM\n",
        "    - Passenger: alone, partner, kid(s), or friend(s)\n",
        "\n",
        "\n",
        "3. Coupon attributes\n",
        "    - time before it expires: 2 hours or one day"
      ]
    },
    {
      "cell_type": "code",
      "execution_count": 2,
      "metadata": {
        "id": "dzNoP3o__qRG"
      },
      "outputs": [],
      "source": [
        "import matplotlib.pyplot as plt\n",
        "import seaborn as sns\n",
        "import pandas as pd\n",
        "import numpy as np"
      ]
    },
    {
      "cell_type": "markdown",
      "metadata": {
        "id": "Ct8pI1uE_qRG"
      },
      "source": [
        "### Problems\n",
        "\n",
        "Use the prompts below to get started with your data analysis.  \n",
        "\n",
        "1. Read in the `coupons.csv` file.\n",
        "\n",
        "\n"
      ]
    },
    {
      "cell_type": "code",
      "execution_count": 3,
      "metadata": {
        "id": "X0vbffYg_qRH"
      },
      "outputs": [],
      "source": [
        "data = pd.read_csv('data/coupons.csv')"
      ]
    },
    {
      "cell_type": "code",
      "execution_count": 4,
      "metadata": {
        "id": "TXofQ_DF_qRH",
        "outputId": "2fc96a2c-1112-4b54-f24f-dbb9bc88abfb"
      },
      "outputs": [
        {
          "data": {
            "text/html": [
              "<div>\n",
              "<style scoped>\n",
              "    .dataframe tbody tr th:only-of-type {\n",
              "        vertical-align: middle;\n",
              "    }\n",
              "\n",
              "    .dataframe tbody tr th {\n",
              "        vertical-align: top;\n",
              "    }\n",
              "\n",
              "    .dataframe thead th {\n",
              "        text-align: right;\n",
              "    }\n",
              "</style>\n",
              "<table border=\"1\" class=\"dataframe\">\n",
              "  <thead>\n",
              "    <tr style=\"text-align: right;\">\n",
              "      <th></th>\n",
              "      <th>destination</th>\n",
              "      <th>passanger</th>\n",
              "      <th>weather</th>\n",
              "      <th>temperature</th>\n",
              "      <th>time</th>\n",
              "      <th>coupon</th>\n",
              "      <th>expiration</th>\n",
              "      <th>gender</th>\n",
              "      <th>age</th>\n",
              "      <th>maritalStatus</th>\n",
              "      <th>...</th>\n",
              "      <th>CoffeeHouse</th>\n",
              "      <th>CarryAway</th>\n",
              "      <th>RestaurantLessThan20</th>\n",
              "      <th>Restaurant20To50</th>\n",
              "      <th>toCoupon_GEQ5min</th>\n",
              "      <th>toCoupon_GEQ15min</th>\n",
              "      <th>toCoupon_GEQ25min</th>\n",
              "      <th>direction_same</th>\n",
              "      <th>direction_opp</th>\n",
              "      <th>Y</th>\n",
              "    </tr>\n",
              "  </thead>\n",
              "  <tbody>\n",
              "    <tr>\n",
              "      <th>0</th>\n",
              "      <td>No Urgent Place</td>\n",
              "      <td>Alone</td>\n",
              "      <td>Sunny</td>\n",
              "      <td>55</td>\n",
              "      <td>2PM</td>\n",
              "      <td>Restaurant(&lt;20)</td>\n",
              "      <td>1d</td>\n",
              "      <td>Female</td>\n",
              "      <td>21</td>\n",
              "      <td>Unmarried partner</td>\n",
              "      <td>...</td>\n",
              "      <td>never</td>\n",
              "      <td>NaN</td>\n",
              "      <td>4~8</td>\n",
              "      <td>1~3</td>\n",
              "      <td>1</td>\n",
              "      <td>0</td>\n",
              "      <td>0</td>\n",
              "      <td>0</td>\n",
              "      <td>1</td>\n",
              "      <td>1</td>\n",
              "    </tr>\n",
              "    <tr>\n",
              "      <th>1</th>\n",
              "      <td>No Urgent Place</td>\n",
              "      <td>Friend(s)</td>\n",
              "      <td>Sunny</td>\n",
              "      <td>80</td>\n",
              "      <td>10AM</td>\n",
              "      <td>Coffee House</td>\n",
              "      <td>2h</td>\n",
              "      <td>Female</td>\n",
              "      <td>21</td>\n",
              "      <td>Unmarried partner</td>\n",
              "      <td>...</td>\n",
              "      <td>never</td>\n",
              "      <td>NaN</td>\n",
              "      <td>4~8</td>\n",
              "      <td>1~3</td>\n",
              "      <td>1</td>\n",
              "      <td>0</td>\n",
              "      <td>0</td>\n",
              "      <td>0</td>\n",
              "      <td>1</td>\n",
              "      <td>0</td>\n",
              "    </tr>\n",
              "    <tr>\n",
              "      <th>2</th>\n",
              "      <td>No Urgent Place</td>\n",
              "      <td>Friend(s)</td>\n",
              "      <td>Sunny</td>\n",
              "      <td>80</td>\n",
              "      <td>10AM</td>\n",
              "      <td>Carry out &amp; Take away</td>\n",
              "      <td>2h</td>\n",
              "      <td>Female</td>\n",
              "      <td>21</td>\n",
              "      <td>Unmarried partner</td>\n",
              "      <td>...</td>\n",
              "      <td>never</td>\n",
              "      <td>NaN</td>\n",
              "      <td>4~8</td>\n",
              "      <td>1~3</td>\n",
              "      <td>1</td>\n",
              "      <td>1</td>\n",
              "      <td>0</td>\n",
              "      <td>0</td>\n",
              "      <td>1</td>\n",
              "      <td>1</td>\n",
              "    </tr>\n",
              "    <tr>\n",
              "      <th>3</th>\n",
              "      <td>No Urgent Place</td>\n",
              "      <td>Friend(s)</td>\n",
              "      <td>Sunny</td>\n",
              "      <td>80</td>\n",
              "      <td>2PM</td>\n",
              "      <td>Coffee House</td>\n",
              "      <td>2h</td>\n",
              "      <td>Female</td>\n",
              "      <td>21</td>\n",
              "      <td>Unmarried partner</td>\n",
              "      <td>...</td>\n",
              "      <td>never</td>\n",
              "      <td>NaN</td>\n",
              "      <td>4~8</td>\n",
              "      <td>1~3</td>\n",
              "      <td>1</td>\n",
              "      <td>1</td>\n",
              "      <td>0</td>\n",
              "      <td>0</td>\n",
              "      <td>1</td>\n",
              "      <td>0</td>\n",
              "    </tr>\n",
              "    <tr>\n",
              "      <th>4</th>\n",
              "      <td>No Urgent Place</td>\n",
              "      <td>Friend(s)</td>\n",
              "      <td>Sunny</td>\n",
              "      <td>80</td>\n",
              "      <td>2PM</td>\n",
              "      <td>Coffee House</td>\n",
              "      <td>1d</td>\n",
              "      <td>Female</td>\n",
              "      <td>21</td>\n",
              "      <td>Unmarried partner</td>\n",
              "      <td>...</td>\n",
              "      <td>never</td>\n",
              "      <td>NaN</td>\n",
              "      <td>4~8</td>\n",
              "      <td>1~3</td>\n",
              "      <td>1</td>\n",
              "      <td>1</td>\n",
              "      <td>0</td>\n",
              "      <td>0</td>\n",
              "      <td>1</td>\n",
              "      <td>0</td>\n",
              "    </tr>\n",
              "  </tbody>\n",
              "</table>\n",
              "<p>5 rows × 26 columns</p>\n",
              "</div>"
            ],
            "text/plain": [
              "       destination  passanger weather  temperature  time  \\\n",
              "0  No Urgent Place      Alone   Sunny           55   2PM   \n",
              "1  No Urgent Place  Friend(s)   Sunny           80  10AM   \n",
              "2  No Urgent Place  Friend(s)   Sunny           80  10AM   \n",
              "3  No Urgent Place  Friend(s)   Sunny           80   2PM   \n",
              "4  No Urgent Place  Friend(s)   Sunny           80   2PM   \n",
              "\n",
              "                  coupon expiration  gender age      maritalStatus  ...  \\\n",
              "0        Restaurant(<20)         1d  Female  21  Unmarried partner  ...   \n",
              "1           Coffee House         2h  Female  21  Unmarried partner  ...   \n",
              "2  Carry out & Take away         2h  Female  21  Unmarried partner  ...   \n",
              "3           Coffee House         2h  Female  21  Unmarried partner  ...   \n",
              "4           Coffee House         1d  Female  21  Unmarried partner  ...   \n",
              "\n",
              "   CoffeeHouse CarryAway RestaurantLessThan20 Restaurant20To50  \\\n",
              "0        never       NaN                  4~8              1~3   \n",
              "1        never       NaN                  4~8              1~3   \n",
              "2        never       NaN                  4~8              1~3   \n",
              "3        never       NaN                  4~8              1~3   \n",
              "4        never       NaN                  4~8              1~3   \n",
              "\n",
              "  toCoupon_GEQ5min toCoupon_GEQ15min toCoupon_GEQ25min direction_same  \\\n",
              "0                1                 0                 0              0   \n",
              "1                1                 0                 0              0   \n",
              "2                1                 1                 0              0   \n",
              "3                1                 1                 0              0   \n",
              "4                1                 1                 0              0   \n",
              "\n",
              "  direction_opp  Y  \n",
              "0             1  1  \n",
              "1             1  0  \n",
              "2             1  1  \n",
              "3             1  0  \n",
              "4             1  0  \n",
              "\n",
              "[5 rows x 26 columns]"
            ]
          },
          "execution_count": 4,
          "metadata": {},
          "output_type": "execute_result"
        }
      ],
      "source": [
        "data.head()"
      ]
    },
    {
      "cell_type": "markdown",
      "metadata": {
        "id": "GcDs78ZH_qRH"
      },
      "source": [
        "2. Investigate the dataset for missing or problematic data."
      ]
    },
    {
      "cell_type": "code",
      "execution_count": 5,
      "metadata": {
        "id": "6CwL6oWj_qRH"
      },
      "outputs": [
        {
          "data": {
            "text/plain": [
              "destination                 0\n",
              "passanger                   0\n",
              "weather                     0\n",
              "temperature                 0\n",
              "time                        0\n",
              "coupon                      0\n",
              "expiration                  0\n",
              "gender                      0\n",
              "age                         0\n",
              "maritalStatus               0\n",
              "has_children                0\n",
              "education                   0\n",
              "occupation                  0\n",
              "income                      0\n",
              "car                     12576\n",
              "Bar                       107\n",
              "CoffeeHouse               217\n",
              "CarryAway                 151\n",
              "RestaurantLessThan20      130\n",
              "Restaurant20To50          189\n",
              "toCoupon_GEQ5min            0\n",
              "toCoupon_GEQ15min           0\n",
              "toCoupon_GEQ25min           0\n",
              "direction_same              0\n",
              "direction_opp               0\n",
              "Y                           0\n",
              "dtype: int64"
            ]
          },
          "execution_count": 5,
          "metadata": {},
          "output_type": "execute_result"
        }
      ],
      "source": [
        "data.isnull().sum()"
      ]
    },
    {
      "cell_type": "markdown",
      "metadata": {
        "id": "bSdVSpYB_qRH"
      },
      "source": [
        "3. Decide what to do about your missing data -- drop, replace, other..."
      ]
    },
    {
      "cell_type": "code",
      "execution_count": 6,
      "metadata": {
        "id": "tyvoAC5F_qRI"
      },
      "outputs": [
        {
          "data": {
            "text/plain": [
              "destination             0\n",
              "passanger               0\n",
              "weather                 0\n",
              "temperature             0\n",
              "time                    0\n",
              "coupon                  0\n",
              "expiration              0\n",
              "gender                  0\n",
              "age                     0\n",
              "maritalStatus           0\n",
              "has_children            0\n",
              "education               0\n",
              "occupation              0\n",
              "income                  0\n",
              "Bar                     0\n",
              "CoffeeHouse             0\n",
              "CarryAway               0\n",
              "RestaurantLessThan20    0\n",
              "Restaurant20To50        0\n",
              "toCoupon_GEQ5min        0\n",
              "toCoupon_GEQ15min       0\n",
              "toCoupon_GEQ25min       0\n",
              "direction_same          0\n",
              "direction_opp           0\n",
              "Y                       0\n",
              "dtype: int64"
            ]
          },
          "execution_count": 6,
          "metadata": {},
          "output_type": "execute_result"
        }
      ],
      "source": [
        "cleaned = data.drop('car', axis=1)\n",
        "cleaned = cleaned.fillna('never')\n",
        "cleaned.isnull().sum()"
      ]
    },
    {
      "cell_type": "markdown",
      "metadata": {
        "id": "YE6oJbXd_qRI"
      },
      "source": [
        "4. What proportion of the total observations chose to accept the coupon?\n",
        "\n"
      ]
    },
    {
      "cell_type": "code",
      "execution_count": 7,
      "metadata": {
        "id": "86GGqBTv_qRI"
      },
      "outputs": [
        {
          "data": {
            "text/plain": [
              "0.5684326710816777"
            ]
          },
          "execution_count": 7,
          "metadata": {},
          "output_type": "execute_result"
        }
      ],
      "source": [
        "len(cleaned[cleaned['Y'] == 1]) / len(cleaned)"
      ]
    },
    {
      "cell_type": "markdown",
      "metadata": {
        "id": "vflz0DoE_qRI"
      },
      "source": [
        "5. Use a bar plot to visualize the `coupon` column."
      ]
    },
    {
      "cell_type": "code",
      "execution_count": 8,
      "metadata": {
        "id": "dHFh3E45_qRI"
      },
      "outputs": [
        {
          "data": {
            "text/plain": [
              "<AxesSubplot: >"
            ]
          },
          "execution_count": 8,
          "metadata": {},
          "output_type": "execute_result"
        },
        {
          "data": {
            "image/png": "[encoded data removed]",
            "text/plain": [
              "<Figure size 640x480 with 1 Axes>"
            ]
          },
          "metadata": {},
          "output_type": "display_data"
        }
      ],
      "source": [
        "cleaned['coupon'].hist()"
      ]
    },
    {
      "cell_type": "markdown",
      "metadata": {
        "id": "Qw4lCyx2_qRI"
      },
      "source": [
        "6. Use a histogram to visualize the temperature column."
      ]
    },
    {
      "cell_type": "code",
      "execution_count": 9,
      "metadata": {
        "id": "Yg9Anv71_qRI"
      },
      "outputs": [
        {
          "data": {
            "text/plain": [
              "([<matplotlib.axis.XTick at 0x1b3516e9850>,\n",
              "  <matplotlib.axis.XTick at 0x1b35191a150>,\n",
              "  <matplotlib.axis.XTick at 0x1b3501b2f10>],\n",
              " [Text(30, 0, '30'), Text(55, 0, '55'), Text(80, 0, '80')])"
            ]
          },
          "execution_count": 9,
          "metadata": {},
          "output_type": "execute_result"
        },
        {
          "data": {
            "image/png": "[encoded data removed]",
            "text/plain": [
              "<Figure size 640x480 with 1 Axes>"
            ]
          },
          "metadata": {},
          "output_type": "display_data"
        }
      ],
      "source": [
        "cleaned['temperature'].hist()\n",
        "plt.xticks([30, 55, 80])"
      ]
    },
    {
      "cell_type": "code",
      "execution_count": null,
      "metadata": {
        "id": "zLtOaJQk_qRI"
      },
      "outputs": [],
      "source": []
    },
    {
      "cell_type": "markdown",
      "metadata": {
        "id": "FupfgeJk_qRJ"
      },
      "source": [
        "**Investigating the Bar Coupons**\n",
        "\n",
        "Now, we will lead you through an exploration of just the bar related coupons.  \n",
        "\n",
        "1. Create a new `DataFrame` that contains just the bar coupons.\n"
      ]
    },
    {
      "cell_type": "code",
      "execution_count": 10,
      "metadata": {
        "id": "tMBlWuGq_qRJ"
      },
      "outputs": [
        {
          "data": {
            "text/html": [
              "<div>\n",
              "<style scoped>\n",
              "    .dataframe tbody tr th:only-of-type {\n",
              "        vertical-align: middle;\n",
              "    }\n",
              "\n",
              "    .dataframe tbody tr th {\n",
              "        vertical-align: top;\n",
              "    }\n",
              "\n",
              "    .dataframe thead th {\n",
              "        text-align: right;\n",
              "    }\n",
              "</style>\n",
              "<table border=\"1\" class=\"dataframe\">\n",
              "  <thead>\n",
              "    <tr style=\"text-align: right;\">\n",
              "      <th></th>\n",
              "      <th>destination</th>\n",
              "      <th>passanger</th>\n",
              "      <th>weather</th>\n",
              "      <th>temperature</th>\n",
              "      <th>time</th>\n",
              "      <th>coupon</th>\n",
              "      <th>expiration</th>\n",
              "      <th>gender</th>\n",
              "      <th>age</th>\n",
              "      <th>maritalStatus</th>\n",
              "      <th>...</th>\n",
              "      <th>CoffeeHouse</th>\n",
              "      <th>CarryAway</th>\n",
              "      <th>RestaurantLessThan20</th>\n",
              "      <th>Restaurant20To50</th>\n",
              "      <th>toCoupon_GEQ5min</th>\n",
              "      <th>toCoupon_GEQ15min</th>\n",
              "      <th>toCoupon_GEQ25min</th>\n",
              "      <th>direction_same</th>\n",
              "      <th>direction_opp</th>\n",
              "      <th>Y</th>\n",
              "    </tr>\n",
              "  </thead>\n",
              "  <tbody>\n",
              "    <tr>\n",
              "      <th>9</th>\n",
              "      <td>No Urgent Place</td>\n",
              "      <td>Kid(s)</td>\n",
              "      <td>Sunny</td>\n",
              "      <td>80</td>\n",
              "      <td>10AM</td>\n",
              "      <td>Bar</td>\n",
              "      <td>1d</td>\n",
              "      <td>Female</td>\n",
              "      <td>21</td>\n",
              "      <td>Unmarried partner</td>\n",
              "      <td>...</td>\n",
              "      <td>never</td>\n",
              "      <td>never</td>\n",
              "      <td>4~8</td>\n",
              "      <td>1~3</td>\n",
              "      <td>1</td>\n",
              "      <td>1</td>\n",
              "      <td>0</td>\n",
              "      <td>0</td>\n",
              "      <td>1</td>\n",
              "      <td>0</td>\n",
              "    </tr>\n",
              "    <tr>\n",
              "      <th>13</th>\n",
              "      <td>Home</td>\n",
              "      <td>Alone</td>\n",
              "      <td>Sunny</td>\n",
              "      <td>55</td>\n",
              "      <td>6PM</td>\n",
              "      <td>Bar</td>\n",
              "      <td>1d</td>\n",
              "      <td>Female</td>\n",
              "      <td>21</td>\n",
              "      <td>Unmarried partner</td>\n",
              "      <td>...</td>\n",
              "      <td>never</td>\n",
              "      <td>never</td>\n",
              "      <td>4~8</td>\n",
              "      <td>1~3</td>\n",
              "      <td>1</td>\n",
              "      <td>0</td>\n",
              "      <td>0</td>\n",
              "      <td>1</td>\n",
              "      <td>0</td>\n",
              "      <td>1</td>\n",
              "    </tr>\n",
              "    <tr>\n",
              "      <th>17</th>\n",
              "      <td>Work</td>\n",
              "      <td>Alone</td>\n",
              "      <td>Sunny</td>\n",
              "      <td>55</td>\n",
              "      <td>7AM</td>\n",
              "      <td>Bar</td>\n",
              "      <td>1d</td>\n",
              "      <td>Female</td>\n",
              "      <td>21</td>\n",
              "      <td>Unmarried partner</td>\n",
              "      <td>...</td>\n",
              "      <td>never</td>\n",
              "      <td>never</td>\n",
              "      <td>4~8</td>\n",
              "      <td>1~3</td>\n",
              "      <td>1</td>\n",
              "      <td>1</td>\n",
              "      <td>1</td>\n",
              "      <td>0</td>\n",
              "      <td>1</td>\n",
              "      <td>0</td>\n",
              "    </tr>\n",
              "    <tr>\n",
              "      <th>24</th>\n",
              "      <td>No Urgent Place</td>\n",
              "      <td>Friend(s)</td>\n",
              "      <td>Sunny</td>\n",
              "      <td>80</td>\n",
              "      <td>10AM</td>\n",
              "      <td>Bar</td>\n",
              "      <td>1d</td>\n",
              "      <td>Male</td>\n",
              "      <td>21</td>\n",
              "      <td>Single</td>\n",
              "      <td>...</td>\n",
              "      <td>less1</td>\n",
              "      <td>4~8</td>\n",
              "      <td>4~8</td>\n",
              "      <td>less1</td>\n",
              "      <td>1</td>\n",
              "      <td>0</td>\n",
              "      <td>0</td>\n",
              "      <td>0</td>\n",
              "      <td>1</td>\n",
              "      <td>1</td>\n",
              "    </tr>\n",
              "    <tr>\n",
              "      <th>35</th>\n",
              "      <td>Home</td>\n",
              "      <td>Alone</td>\n",
              "      <td>Sunny</td>\n",
              "      <td>55</td>\n",
              "      <td>6PM</td>\n",
              "      <td>Bar</td>\n",
              "      <td>1d</td>\n",
              "      <td>Male</td>\n",
              "      <td>21</td>\n",
              "      <td>Single</td>\n",
              "      <td>...</td>\n",
              "      <td>less1</td>\n",
              "      <td>4~8</td>\n",
              "      <td>4~8</td>\n",
              "      <td>less1</td>\n",
              "      <td>1</td>\n",
              "      <td>0</td>\n",
              "      <td>0</td>\n",
              "      <td>1</td>\n",
              "      <td>0</td>\n",
              "      <td>1</td>\n",
              "    </tr>\n",
              "    <tr>\n",
              "      <th>...</th>\n",
              "      <td>...</td>\n",
              "      <td>...</td>\n",
              "      <td>...</td>\n",
              "      <td>...</td>\n",
              "      <td>...</td>\n",
              "      <td>...</td>\n",
              "      <td>...</td>\n",
              "      <td>...</td>\n",
              "      <td>...</td>\n",
              "      <td>...</td>\n",
              "      <td>...</td>\n",
              "      <td>...</td>\n",
              "      <td>...</td>\n",
              "      <td>...</td>\n",
              "      <td>...</td>\n",
              "      <td>...</td>\n",
              "      <td>...</td>\n",
              "      <td>...</td>\n",
              "      <td>...</td>\n",
              "      <td>...</td>\n",
              "      <td>...</td>\n",
              "    </tr>\n",
              "    <tr>\n",
              "      <th>12663</th>\n",
              "      <td>No Urgent Place</td>\n",
              "      <td>Friend(s)</td>\n",
              "      <td>Sunny</td>\n",
              "      <td>80</td>\n",
              "      <td>10PM</td>\n",
              "      <td>Bar</td>\n",
              "      <td>1d</td>\n",
              "      <td>Male</td>\n",
              "      <td>26</td>\n",
              "      <td>Single</td>\n",
              "      <td>...</td>\n",
              "      <td>never</td>\n",
              "      <td>1~3</td>\n",
              "      <td>4~8</td>\n",
              "      <td>1~3</td>\n",
              "      <td>1</td>\n",
              "      <td>1</td>\n",
              "      <td>0</td>\n",
              "      <td>0</td>\n",
              "      <td>1</td>\n",
              "      <td>0</td>\n",
              "    </tr>\n",
              "    <tr>\n",
              "      <th>12664</th>\n",
              "      <td>No Urgent Place</td>\n",
              "      <td>Friend(s)</td>\n",
              "      <td>Sunny</td>\n",
              "      <td>55</td>\n",
              "      <td>10PM</td>\n",
              "      <td>Bar</td>\n",
              "      <td>2h</td>\n",
              "      <td>Male</td>\n",
              "      <td>26</td>\n",
              "      <td>Single</td>\n",
              "      <td>...</td>\n",
              "      <td>never</td>\n",
              "      <td>1~3</td>\n",
              "      <td>4~8</td>\n",
              "      <td>1~3</td>\n",
              "      <td>1</td>\n",
              "      <td>1</td>\n",
              "      <td>0</td>\n",
              "      <td>0</td>\n",
              "      <td>1</td>\n",
              "      <td>0</td>\n",
              "    </tr>\n",
              "    <tr>\n",
              "      <th>12667</th>\n",
              "      <td>No Urgent Place</td>\n",
              "      <td>Alone</td>\n",
              "      <td>Rainy</td>\n",
              "      <td>55</td>\n",
              "      <td>10AM</td>\n",
              "      <td>Bar</td>\n",
              "      <td>1d</td>\n",
              "      <td>Male</td>\n",
              "      <td>26</td>\n",
              "      <td>Single</td>\n",
              "      <td>...</td>\n",
              "      <td>never</td>\n",
              "      <td>1~3</td>\n",
              "      <td>4~8</td>\n",
              "      <td>1~3</td>\n",
              "      <td>1</td>\n",
              "      <td>1</td>\n",
              "      <td>0</td>\n",
              "      <td>0</td>\n",
              "      <td>1</td>\n",
              "      <td>0</td>\n",
              "    </tr>\n",
              "    <tr>\n",
              "      <th>12670</th>\n",
              "      <td>No Urgent Place</td>\n",
              "      <td>Partner</td>\n",
              "      <td>Rainy</td>\n",
              "      <td>55</td>\n",
              "      <td>6PM</td>\n",
              "      <td>Bar</td>\n",
              "      <td>2h</td>\n",
              "      <td>Male</td>\n",
              "      <td>26</td>\n",
              "      <td>Single</td>\n",
              "      <td>...</td>\n",
              "      <td>never</td>\n",
              "      <td>1~3</td>\n",
              "      <td>4~8</td>\n",
              "      <td>1~3</td>\n",
              "      <td>1</td>\n",
              "      <td>1</td>\n",
              "      <td>0</td>\n",
              "      <td>0</td>\n",
              "      <td>1</td>\n",
              "      <td>0</td>\n",
              "    </tr>\n",
              "    <tr>\n",
              "      <th>12682</th>\n",
              "      <td>Work</td>\n",
              "      <td>Alone</td>\n",
              "      <td>Snowy</td>\n",
              "      <td>30</td>\n",
              "      <td>7AM</td>\n",
              "      <td>Bar</td>\n",
              "      <td>1d</td>\n",
              "      <td>Male</td>\n",
              "      <td>26</td>\n",
              "      <td>Single</td>\n",
              "      <td>...</td>\n",
              "      <td>never</td>\n",
              "      <td>1~3</td>\n",
              "      <td>4~8</td>\n",
              "      <td>1~3</td>\n",
              "      <td>1</td>\n",
              "      <td>1</td>\n",
              "      <td>1</td>\n",
              "      <td>0</td>\n",
              "      <td>1</td>\n",
              "      <td>0</td>\n",
              "    </tr>\n",
              "  </tbody>\n",
              "</table>\n",
              "<p>2017 rows × 25 columns</p>\n",
              "</div>"
            ],
            "text/plain": [
              "           destination  passanger weather  temperature  time coupon  \\\n",
              "9      No Urgent Place     Kid(s)   Sunny           80  10AM    Bar   \n",
              "13                Home      Alone   Sunny           55   6PM    Bar   \n",
              "17                Work      Alone   Sunny           55   7AM    Bar   \n",
              "24     No Urgent Place  Friend(s)   Sunny           80  10AM    Bar   \n",
              "35                Home      Alone   Sunny           55   6PM    Bar   \n",
              "...                ...        ...     ...          ...   ...    ...   \n",
              "12663  No Urgent Place  Friend(s)   Sunny           80  10PM    Bar   \n",
              "12664  No Urgent Place  Friend(s)   Sunny           55  10PM    Bar   \n",
              "12667  No Urgent Place      Alone   Rainy           55  10AM    Bar   \n",
              "12670  No Urgent Place    Partner   Rainy           55   6PM    Bar   \n",
              "12682             Work      Alone   Snowy           30   7AM    Bar   \n",
              "\n",
              "      expiration  gender age      maritalStatus  ...  CoffeeHouse CarryAway  \\\n",
              "9             1d  Female  21  Unmarried partner  ...        never     never   \n",
              "13            1d  Female  21  Unmarried partner  ...        never     never   \n",
              "17            1d  Female  21  Unmarried partner  ...        never     never   \n",
              "24            1d    Male  21             Single  ...        less1       4~8   \n",
              "35            1d    Male  21             Single  ...        less1       4~8   \n",
              "...          ...     ...  ..                ...  ...          ...       ...   \n",
              "12663         1d    Male  26             Single  ...        never       1~3   \n",
              "12664         2h    Male  26             Single  ...        never       1~3   \n",
              "12667         1d    Male  26             Single  ...        never       1~3   \n",
              "12670         2h    Male  26             Single  ...        never       1~3   \n",
              "12682         1d    Male  26             Single  ...        never       1~3   \n",
              "\n",
              "      RestaurantLessThan20 Restaurant20To50 toCoupon_GEQ5min  \\\n",
              "9                      4~8              1~3                1   \n",
              "13                     4~8              1~3                1   \n",
              "17                     4~8              1~3                1   \n",
              "24                     4~8            less1                1   \n",
              "35                     4~8            less1                1   \n",
              "...                    ...              ...              ...   \n",
              "12663                  4~8              1~3                1   \n",
              "12664                  4~8              1~3                1   \n",
              "12667                  4~8              1~3                1   \n",
              "12670                  4~8              1~3                1   \n",
              "12682                  4~8              1~3                1   \n",
              "\n",
              "      toCoupon_GEQ15min toCoupon_GEQ25min direction_same direction_opp  Y  \n",
              "9                     1                 0              0             1  0  \n",
              "13                    0                 0              1             0  1  \n",
              "17                    1                 1              0             1  0  \n",
              "24                    0                 0              0             1  1  \n",
              "35                    0                 0              1             0  1  \n",
              "...                 ...               ...            ...           ... ..  \n",
              "12663                 1                 0              0             1  0  \n",
              "12664                 1                 0              0             1  0  \n",
              "12667                 1                 0              0             1  0  \n",
              "12670                 1                 0              0             1  0  \n",
              "12682                 1                 1              0             1  0  \n",
              "\n",
              "[2017 rows x 25 columns]"
            ]
          },
          "execution_count": 10,
          "metadata": {},
          "output_type": "execute_result"
        }
      ],
      "source": [
        "bar = cleaned[cleaned['coupon'] == 'Bar']\n",
        "bar"
      ]
    },
    {
      "cell_type": "markdown",
      "metadata": {
        "id": "8ue6uCqf_qRJ"
      },
      "source": [
        "2. What proportion of bar coupons were accepted?\n"
      ]
    },
    {
      "cell_type": "code",
      "execution_count": 11,
      "metadata": {
        "id": "hSdte8Mi_qRK"
      },
      "outputs": [
        {
          "data": {
            "text/plain": [
              "0.41001487357461575"
            ]
          },
          "execution_count": 11,
          "metadata": {},
          "output_type": "execute_result"
        }
      ],
      "source": [
        "len(bar[bar['Y'] == 1]) / len(bar)"
      ]
    },
    {
      "cell_type": "markdown",
      "metadata": {
        "id": "85nA_iEi_qRK"
      },
      "source": [
        "3. Compare the acceptance rate between those who went to a bar 3 or fewer times a month to those who went more.\n"
      ]
    },
    {
      "cell_type": "code",
      "execution_count": 12,
      "metadata": {
        "id": "LBOrN-XM_qRK"
      },
      "outputs": [
        {
          "name": "stdout",
          "output_type": "stream",
          "text": [
            "Acceptance rate of those who went 3 times or less: 0.37073707370737075\n",
            "Acceptance rate of those who went more than 3 times: 0.7688442211055276\n"
          ]
        }
      ],
      "source": [
        "less3 = bar[bar['Bar'].isin(['never', 'less1', '1~3'])]\n",
        "more3 = bar[bar['Bar'].isin(['4~8', 'gt8'])]\n",
        "print(\"Acceptance rate of those who went 3 times or less:\", len(less3[less3['Y'] == 1]) / len(less3))\n",
        "print(\"Acceptance rate of those who went more than 3 times:\", len(more3[more3['Y'] == 1]) / len(more3))"
      ]
    },
    {
      "cell_type": "markdown",
      "metadata": {
        "id": "RBgcQwH4_qRK"
      },
      "source": [
        "4. Compare the acceptance rate between drivers who go to a bar more than once a month and are over the age of 25 to the all others.  Is there a difference?\n"
      ]
    },
    {
      "cell_type": "code",
      "execution_count": 23,
      "metadata": {
        "id": "bf28bbeX_qRK"
      },
      "outputs": [
        {
          "name": "stdout",
          "output_type": "stream",
          "text": [
            "Acceptance rate of drivers over 25 who go more than once a month: 0.6952380952380952\n",
            "Acceptance rate of all drivers who go more than once a month: 0.6879194630872483\n",
            "\n",
            "There is only a slight difference, which means that whether a driver is over 25 is a strong indicator of\n",
            "how likely they are to accept the coupon if they go more than once a month\n"
          ]
        }
      ],
      "source": [
        "over25 = bar.query(\"Bar in ['1~3', '4~8', 'gt8'] and age not in ['21', 'below21']\")\n",
        "others = bar.query(\"Bar in ['1~3', '4~8', 'gt8']\")\n",
        "print(\"Acceptance rate of drivers over 25 who go more than once a month:\", len(over25[over25['Y'] == 1]) / len(over25))\n",
        "print(\"Acceptance rate of all drivers who go more than once a month:\", len(others[others['Y'] == 1]) / len(others))\n",
        "print()\n",
        "print(\"\"\"There is only a slight difference, which means that whether a driver is over 25 is a strong indicator of\n",
        "how likely they are to accept the coupon if they go more than once a month\"\"\")"
      ]
    },
    {
      "cell_type": "markdown",
      "metadata": {
        "id": "S4RKT4PJ_qRK"
      },
      "source": [
        "5. Use the same process to compare the acceptance rate between drivers who go to bars more than once a month and had passengers that were not a kid and had occupations other than farming, fishing, or forestry.\n"
      ]
    },
    {
      "cell_type": "code",
      "execution_count": 24,
      "metadata": {
        "id": "sENaI2Tg_qRK"
      },
      "outputs": [
        {
          "name": "stdout",
          "output_type": "stream",
          "text": [
            "Acceptance rate of drivers who go more than once a month without kids: 0.7132486388384754\n",
            "Acceptance rate of drivers who go more than once a month and aren't in Farming, Fishing & Forestry: 0.6879194630872483\n",
            "\n",
            "Not having a job in Farming, Fishing & Forestry COULD be indicative of whether they will go\n",
            "more than once a month without kids, but it's uncertain.\n"
          ]
        }
      ],
      "source": [
        "nokids = bar.query(\"Bar in ['1~3', '4~8', 'gt8'] and passanger != 'Kid(s)'\")\n",
        "occ = bar.query(\"Bar in ['1~3', '4~8', 'gt8'] and occupation != 'Farming Fishing & Forestry'\")\n",
        "print(\"Acceptance rate of drivers who go more than once a month without kids:\", len(nokids[nokids['Y'] == 1]) / len(nokids))\n",
        "print(\"Acceptance rate of drivers who go more than once a month and aren't in Farming, Fishing & Forestry:\", len(occ[occ['Y'] == 1]) / len(occ))\n",
        "print()\n",
        "print(\"\"\"Not having a job in Farming, Fishing & Forestry COULD be indicative of whether they will go\n",
        "more than once a month without kids, but it's uncertain.\"\"\")"
      ]
    },
    {
      "cell_type": "markdown",
      "metadata": {
        "id": "n2LIUTil_qRK"
      },
      "source": [
        "6. Compare the acceptance rates between those drivers who:\n",
        "\n",
        "- go to bars more than once a month, had passengers that were not a kid, and were not widowed *OR*\n",
        "- go to bars more than once a month and are under the age of 30 *OR*\n",
        "- go to cheap restaurants more than 4 times a month and income is less than 50K.\n",
        "\n"
      ]
    },
    {
      "cell_type": "code",
      "execution_count": 34,
      "metadata": {
        "id": "aK_wEzx7_qRK"
      },
      "outputs": [
        {
          "name": "stdout",
          "output_type": "stream",
          "text": [
            "Acceptance rate of drivers who go to bars more than once a month without kids and aren't widowed: 0.7132486388384754\n",
            "Acceptance rate of drivers under 30 who go more than once a month: 0.7217391304347827\n",
            "Acceptance rate of drivers who go to cheap restaurants more than 4 times a month and make less than $50k: 0.6007020623080298\n",
            "\n",
            "Not having kids and being young seem to correlate with accepting the coupons. \n",
            "Income is also a likely contributing factor to the decision.\n"
          ]
        }
      ],
      "source": [
        "notwidow = bar.query(\"Bar in ['1~3', '4~8', 'gt8'] and passanger != 'Kid(s)' and maritalStatus != 'Widowed'\")\n",
        "under30 = bar.query(\"Bar in ['1~3', '4~8', 'gt8'] and age in ['21', '26', 'below21']\")\n",
        "cheapR = cleaned.query(\"RestaurantLessThan20 in ['4~8', 'gt8'] and income in ['$25000 - $37499', '$12500 - $24999', '$37500 - $49999', 'Less than $12500']\")\n",
        "print(\"Acceptance rate of drivers who go to bars more than once a month without kids and aren't widowed:\", len(notwidow.query(\"Y == 1\")) / len(notwidow))\n",
        "print(\"Acceptance rate of drivers under 30 who go more than once a month:\", len(under30.query(\"Y == 1\")) / len(under30))\n",
        "print(\"Acceptance rate of drivers who go to cheap restaurants more than 4 times a month and make less than $50k:\", len(cheapR.query(\"Y == 1\")) / len(cheapR))\n",
        "print()\n",
        "print(\"\"\"Not having kids and being young seem to correlate with accepting the coupons. \n",
        "Income is also a likely contributing factor to the decision.\"\"\")"
      ]
    },
    {
      "cell_type": "markdown",
      "metadata": {
        "id": "v3fL3QkO_qRK"
      },
      "source": [
        "7.  Based on these observations, what do you hypothesize about drivers who accepted the bar coupons?"
      ]
    },
    {
      "cell_type": "markdown",
      "metadata": {},
      "source": [
        "<mark>Answer:</mark> Whether a driver is over 25 is a strong indicator of how likely they are to accept the coupon if they go more than once a month. Not having a job in Farming, Fishing & Forestry COULD be indicative of whether they will go more than once a month without kids, but it's uncertain. Not having kids and being young seem to correlate with accepting the coupons. Income is also a likely contributing factor to the decision."
      ]
    },
    {
      "cell_type": "markdown",
      "metadata": {
        "id": "r4Hu1zOb_qRL"
      },
      "source": [
        "### Independent Investigation\n",
        "\n",
        "Using the bar coupon example as motivation, you are to explore one of the other coupon groups and try to determine the characteristics of passengers who accept the coupons.  "
      ]
    },
    {
      "cell_type": "markdown",
      "metadata": {},
      "source": [
        "#### A dataframe of those who got a coupon for cheap restaurants"
      ]
    },
    {
      "cell_type": "code",
      "execution_count": 37,
      "metadata": {
        "id": "0c71cQhu_qRL"
      },
      "outputs": [
        {
          "data": {
            "text/html": [
              "<div>\n",
              "<style scoped>\n",
              "    .dataframe tbody tr th:only-of-type {\n",
              "        vertical-align: middle;\n",
              "    }\n",
              "\n",
              "    .dataframe tbody tr th {\n",
              "        vertical-align: top;\n",
              "    }\n",
              "\n",
              "    .dataframe thead th {\n",
              "        text-align: right;\n",
              "    }\n",
              "</style>\n",
              "<table border=\"1\" class=\"dataframe\">\n",
              "  <thead>\n",
              "    <tr style=\"text-align: right;\">\n",
              "      <th></th>\n",
              "      <th>destination</th>\n",
              "      <th>passanger</th>\n",
              "      <th>weather</th>\n",
              "      <th>temperature</th>\n",
              "      <th>time</th>\n",
              "      <th>coupon</th>\n",
              "      <th>expiration</th>\n",
              "      <th>gender</th>\n",
              "      <th>age</th>\n",
              "      <th>maritalStatus</th>\n",
              "      <th>...</th>\n",
              "      <th>CoffeeHouse</th>\n",
              "      <th>CarryAway</th>\n",
              "      <th>RestaurantLessThan20</th>\n",
              "      <th>Restaurant20To50</th>\n",
              "      <th>toCoupon_GEQ5min</th>\n",
              "      <th>toCoupon_GEQ15min</th>\n",
              "      <th>toCoupon_GEQ25min</th>\n",
              "      <th>direction_same</th>\n",
              "      <th>direction_opp</th>\n",
              "      <th>Y</th>\n",
              "    </tr>\n",
              "  </thead>\n",
              "  <tbody>\n",
              "    <tr>\n",
              "      <th>0</th>\n",
              "      <td>No Urgent Place</td>\n",
              "      <td>Alone</td>\n",
              "      <td>Sunny</td>\n",
              "      <td>55</td>\n",
              "      <td>2PM</td>\n",
              "      <td>Restaurant(&lt;20)</td>\n",
              "      <td>1d</td>\n",
              "      <td>Female</td>\n",
              "      <td>21</td>\n",
              "      <td>Unmarried partner</td>\n",
              "      <td>...</td>\n",
              "      <td>never</td>\n",
              "      <td>never</td>\n",
              "      <td>4~8</td>\n",
              "      <td>1~3</td>\n",
              "      <td>1</td>\n",
              "      <td>0</td>\n",
              "      <td>0</td>\n",
              "      <td>0</td>\n",
              "      <td>1</td>\n",
              "      <td>1</td>\n",
              "    </tr>\n",
              "    <tr>\n",
              "      <th>5</th>\n",
              "      <td>No Urgent Place</td>\n",
              "      <td>Friend(s)</td>\n",
              "      <td>Sunny</td>\n",
              "      <td>80</td>\n",
              "      <td>6PM</td>\n",
              "      <td>Restaurant(&lt;20)</td>\n",
              "      <td>2h</td>\n",
              "      <td>Female</td>\n",
              "      <td>21</td>\n",
              "      <td>Unmarried partner</td>\n",
              "      <td>...</td>\n",
              "      <td>never</td>\n",
              "      <td>never</td>\n",
              "      <td>4~8</td>\n",
              "      <td>1~3</td>\n",
              "      <td>1</td>\n",
              "      <td>1</td>\n",
              "      <td>0</td>\n",
              "      <td>0</td>\n",
              "      <td>1</td>\n",
              "      <td>1</td>\n",
              "    </tr>\n",
              "    <tr>\n",
              "      <th>7</th>\n",
              "      <td>No Urgent Place</td>\n",
              "      <td>Kid(s)</td>\n",
              "      <td>Sunny</td>\n",
              "      <td>80</td>\n",
              "      <td>10AM</td>\n",
              "      <td>Restaurant(&lt;20)</td>\n",
              "      <td>2h</td>\n",
              "      <td>Female</td>\n",
              "      <td>21</td>\n",
              "      <td>Unmarried partner</td>\n",
              "      <td>...</td>\n",
              "      <td>never</td>\n",
              "      <td>never</td>\n",
              "      <td>4~8</td>\n",
              "      <td>1~3</td>\n",
              "      <td>1</td>\n",
              "      <td>1</td>\n",
              "      <td>0</td>\n",
              "      <td>0</td>\n",
              "      <td>1</td>\n",
              "      <td>1</td>\n",
              "    </tr>\n",
              "    <tr>\n",
              "      <th>10</th>\n",
              "      <td>No Urgent Place</td>\n",
              "      <td>Kid(s)</td>\n",
              "      <td>Sunny</td>\n",
              "      <td>80</td>\n",
              "      <td>2PM</td>\n",
              "      <td>Restaurant(&lt;20)</td>\n",
              "      <td>1d</td>\n",
              "      <td>Female</td>\n",
              "      <td>21</td>\n",
              "      <td>Unmarried partner</td>\n",
              "      <td>...</td>\n",
              "      <td>never</td>\n",
              "      <td>never</td>\n",
              "      <td>4~8</td>\n",
              "      <td>1~3</td>\n",
              "      <td>1</td>\n",
              "      <td>0</td>\n",
              "      <td>0</td>\n",
              "      <td>0</td>\n",
              "      <td>1</td>\n",
              "      <td>1</td>\n",
              "    </tr>\n",
              "    <tr>\n",
              "      <th>11</th>\n",
              "      <td>No Urgent Place</td>\n",
              "      <td>Kid(s)</td>\n",
              "      <td>Sunny</td>\n",
              "      <td>55</td>\n",
              "      <td>2PM</td>\n",
              "      <td>Restaurant(&lt;20)</td>\n",
              "      <td>1d</td>\n",
              "      <td>Female</td>\n",
              "      <td>21</td>\n",
              "      <td>Unmarried partner</td>\n",
              "      <td>...</td>\n",
              "      <td>never</td>\n",
              "      <td>never</td>\n",
              "      <td>4~8</td>\n",
              "      <td>1~3</td>\n",
              "      <td>1</td>\n",
              "      <td>1</td>\n",
              "      <td>0</td>\n",
              "      <td>0</td>\n",
              "      <td>1</td>\n",
              "      <td>1</td>\n",
              "    </tr>\n",
              "    <tr>\n",
              "      <th>...</th>\n",
              "      <td>...</td>\n",
              "      <td>...</td>\n",
              "      <td>...</td>\n",
              "      <td>...</td>\n",
              "      <td>...</td>\n",
              "      <td>...</td>\n",
              "      <td>...</td>\n",
              "      <td>...</td>\n",
              "      <td>...</td>\n",
              "      <td>...</td>\n",
              "      <td>...</td>\n",
              "      <td>...</td>\n",
              "      <td>...</td>\n",
              "      <td>...</td>\n",
              "      <td>...</td>\n",
              "      <td>...</td>\n",
              "      <td>...</td>\n",
              "      <td>...</td>\n",
              "      <td>...</td>\n",
              "      <td>...</td>\n",
              "      <td>...</td>\n",
              "    </tr>\n",
              "    <tr>\n",
              "      <th>12666</th>\n",
              "      <td>No Urgent Place</td>\n",
              "      <td>Friend(s)</td>\n",
              "      <td>Snowy</td>\n",
              "      <td>30</td>\n",
              "      <td>2PM</td>\n",
              "      <td>Restaurant(&lt;20)</td>\n",
              "      <td>1d</td>\n",
              "      <td>Male</td>\n",
              "      <td>26</td>\n",
              "      <td>Single</td>\n",
              "      <td>...</td>\n",
              "      <td>never</td>\n",
              "      <td>1~3</td>\n",
              "      <td>4~8</td>\n",
              "      <td>1~3</td>\n",
              "      <td>1</td>\n",
              "      <td>0</td>\n",
              "      <td>0</td>\n",
              "      <td>0</td>\n",
              "      <td>1</td>\n",
              "      <td>1</td>\n",
              "    </tr>\n",
              "    <tr>\n",
              "      <th>12668</th>\n",
              "      <td>No Urgent Place</td>\n",
              "      <td>Alone</td>\n",
              "      <td>Sunny</td>\n",
              "      <td>80</td>\n",
              "      <td>10AM</td>\n",
              "      <td>Restaurant(&lt;20)</td>\n",
              "      <td>2h</td>\n",
              "      <td>Male</td>\n",
              "      <td>26</td>\n",
              "      <td>Single</td>\n",
              "      <td>...</td>\n",
              "      <td>never</td>\n",
              "      <td>1~3</td>\n",
              "      <td>4~8</td>\n",
              "      <td>1~3</td>\n",
              "      <td>1</td>\n",
              "      <td>0</td>\n",
              "      <td>0</td>\n",
              "      <td>0</td>\n",
              "      <td>1</td>\n",
              "      <td>1</td>\n",
              "    </tr>\n",
              "    <tr>\n",
              "      <th>12671</th>\n",
              "      <td>No Urgent Place</td>\n",
              "      <td>Partner</td>\n",
              "      <td>Snowy</td>\n",
              "      <td>30</td>\n",
              "      <td>10AM</td>\n",
              "      <td>Restaurant(&lt;20)</td>\n",
              "      <td>1d</td>\n",
              "      <td>Male</td>\n",
              "      <td>26</td>\n",
              "      <td>Single</td>\n",
              "      <td>...</td>\n",
              "      <td>never</td>\n",
              "      <td>1~3</td>\n",
              "      <td>4~8</td>\n",
              "      <td>1~3</td>\n",
              "      <td>1</td>\n",
              "      <td>0</td>\n",
              "      <td>0</td>\n",
              "      <td>0</td>\n",
              "      <td>1</td>\n",
              "      <td>1</td>\n",
              "    </tr>\n",
              "    <tr>\n",
              "      <th>12677</th>\n",
              "      <td>Home</td>\n",
              "      <td>Partner</td>\n",
              "      <td>Sunny</td>\n",
              "      <td>30</td>\n",
              "      <td>6PM</td>\n",
              "      <td>Restaurant(&lt;20)</td>\n",
              "      <td>1d</td>\n",
              "      <td>Male</td>\n",
              "      <td>26</td>\n",
              "      <td>Single</td>\n",
              "      <td>...</td>\n",
              "      <td>never</td>\n",
              "      <td>1~3</td>\n",
              "      <td>4~8</td>\n",
              "      <td>1~3</td>\n",
              "      <td>1</td>\n",
              "      <td>1</td>\n",
              "      <td>1</td>\n",
              "      <td>0</td>\n",
              "      <td>1</td>\n",
              "      <td>1</td>\n",
              "    </tr>\n",
              "    <tr>\n",
              "      <th>12678</th>\n",
              "      <td>Home</td>\n",
              "      <td>Partner</td>\n",
              "      <td>Sunny</td>\n",
              "      <td>30</td>\n",
              "      <td>10PM</td>\n",
              "      <td>Restaurant(&lt;20)</td>\n",
              "      <td>2h</td>\n",
              "      <td>Male</td>\n",
              "      <td>26</td>\n",
              "      <td>Single</td>\n",
              "      <td>...</td>\n",
              "      <td>never</td>\n",
              "      <td>1~3</td>\n",
              "      <td>4~8</td>\n",
              "      <td>1~3</td>\n",
              "      <td>1</td>\n",
              "      <td>1</td>\n",
              "      <td>0</td>\n",
              "      <td>1</td>\n",
              "      <td>0</td>\n",
              "      <td>0</td>\n",
              "    </tr>\n",
              "  </tbody>\n",
              "</table>\n",
              "<p>2786 rows × 25 columns</p>\n",
              "</div>"
            ],
            "text/plain": [
              "           destination  passanger weather  temperature  time           coupon  \\\n",
              "0      No Urgent Place      Alone   Sunny           55   2PM  Restaurant(<20)   \n",
              "5      No Urgent Place  Friend(s)   Sunny           80   6PM  Restaurant(<20)   \n",
              "7      No Urgent Place     Kid(s)   Sunny           80  10AM  Restaurant(<20)   \n",
              "10     No Urgent Place     Kid(s)   Sunny           80   2PM  Restaurant(<20)   \n",
              "11     No Urgent Place     Kid(s)   Sunny           55   2PM  Restaurant(<20)   \n",
              "...                ...        ...     ...          ...   ...              ...   \n",
              "12666  No Urgent Place  Friend(s)   Snowy           30   2PM  Restaurant(<20)   \n",
              "12668  No Urgent Place      Alone   Sunny           80  10AM  Restaurant(<20)   \n",
              "12671  No Urgent Place    Partner   Snowy           30  10AM  Restaurant(<20)   \n",
              "12677             Home    Partner   Sunny           30   6PM  Restaurant(<20)   \n",
              "12678             Home    Partner   Sunny           30  10PM  Restaurant(<20)   \n",
              "\n",
              "      expiration  gender age      maritalStatus  ...  CoffeeHouse CarryAway  \\\n",
              "0             1d  Female  21  Unmarried partner  ...        never     never   \n",
              "5             2h  Female  21  Unmarried partner  ...        never     never   \n",
              "7             2h  Female  21  Unmarried partner  ...        never     never   \n",
              "10            1d  Female  21  Unmarried partner  ...        never     never   \n",
              "11            1d  Female  21  Unmarried partner  ...        never     never   \n",
              "...          ...     ...  ..                ...  ...          ...       ...   \n",
              "12666         1d    Male  26             Single  ...        never       1~3   \n",
              "12668         2h    Male  26             Single  ...        never       1~3   \n",
              "12671         1d    Male  26             Single  ...        never       1~3   \n",
              "12677         1d    Male  26             Single  ...        never       1~3   \n",
              "12678         2h    Male  26             Single  ...        never       1~3   \n",
              "\n",
              "      RestaurantLessThan20 Restaurant20To50 toCoupon_GEQ5min  \\\n",
              "0                      4~8              1~3                1   \n",
              "5                      4~8              1~3                1   \n",
              "7                      4~8              1~3                1   \n",
              "10                     4~8              1~3                1   \n",
              "11                     4~8              1~3                1   \n",
              "...                    ...              ...              ...   \n",
              "12666                  4~8              1~3                1   \n",
              "12668                  4~8              1~3                1   \n",
              "12671                  4~8              1~3                1   \n",
              "12677                  4~8              1~3                1   \n",
              "12678                  4~8              1~3                1   \n",
              "\n",
              "      toCoupon_GEQ15min toCoupon_GEQ25min direction_same direction_opp  Y  \n",
              "0                     0                 0              0             1  1  \n",
              "5                     1                 0              0             1  1  \n",
              "7                     1                 0              0             1  1  \n",
              "10                    0                 0              0             1  1  \n",
              "11                    1                 0              0             1  1  \n",
              "...                 ...               ...            ...           ... ..  \n",
              "12666                 0                 0              0             1  1  \n",
              "12668                 0                 0              0             1  1  \n",
              "12671                 0                 0              0             1  1  \n",
              "12677                 1                 1              0             1  1  \n",
              "12678                 1                 0              1             0  0  \n",
              "\n",
              "[2786 rows x 25 columns]"
            ]
          },
          "execution_count": 37,
          "metadata": {},
          "output_type": "execute_result"
        }
      ],
      "source": [
        "cheap = cleaned[cleaned['coupon'] == 'Restaurant(<20)']\n",
        "cheap"
      ]
    },
    {
      "cell_type": "markdown",
      "metadata": {},
      "source": [
        "#### Correlation Between Income and Coupon Acceptance\n",
        "Here, I sought to find out which income levels had the highest acceptance rates."
      ]
    },
    {
      "cell_type": "code",
      "execution_count": 98,
      "metadata": {
        "id": "QEsBkvIN_qRL"
      },
      "outputs": [
        {
          "data": {
            "text/plain": [
              "<matplotlib.legend.Legend at 0x1b35da1bad0>"
            ]
          },
          "execution_count": 98,
          "metadata": {},
          "output_type": "execute_result"
        },
        {
          "data": {
            "image/png": "[encoded data removed]",
            "text/plain": [
              "<Figure size 640x480 with 1 Axes>"
            ]
          },
          "metadata": {},
          "output_type": "display_data"
        }
      ],
      "source": [
        "# Compute incomes and their associated counts\n",
        "income_list = sorted(cheap['income'].value_counts().keys())\n",
        "temp = income_list[0]\n",
        "income_list[0] = income_list[-1]\n",
        "income_list[-1] = temp\n",
        "vals = cheap['income'].value_counts().to_numpy()\n",
        "keys = cheap['income'].value_counts().index.to_list()\n",
        "dic = {k:v for (k,v) in zip(keys,vals)}\n",
        "vals_list = [dic[x] for x in income_list]\n",
        "plt.bar(income_list, vals_list)\n",
        "plt.xticks(rotation=90)\n",
        "\n",
        "# Compute how many of the coupons were accepted\n",
        "accepted = cheap.query(\"Y == 1\")\n",
        "acc_vals = accepted['income'].value_counts().to_list()\n",
        "dic2 = {k:v for (k,v) in zip(keys,acc_vals)}\n",
        "acc_list = [dic2[x] for x in income_list]\n",
        "plt.bar(income_list, acc_list, width=0.5)\n",
        "plt.title(\"Cheap restaurant coupons by income\")\n",
        "plt.legend([\"All Coupons\", \"Accepted Coupons\"])"
      ]
    },
    {
      "cell_type": "markdown",
      "metadata": {},
      "source": [
        "#### Correlation Between Distance to Coupon and Acceptance\n",
        "Here, I sought to observe the trend of acceptance as the distance to the coupon location increased."
      ]
    },
    {
      "cell_type": "code",
      "execution_count": 104,
      "metadata": {
        "id": "fTC2WGE3_qRL"
      },
      "outputs": [
        {
          "name": "stdout",
          "output_type": "stream",
          "text": [
            "Total number of accepted coupons: 1970\n",
            "Number of acceptances at a distance of 5 minutes or more: 1970\n",
            "Number of acceptances at a distance of 15 minutes or more: 810\n",
            "Number of acceptances at a distance of 25 minutes or more: 101\n"
          ]
        }
      ],
      "source": [
        "print(\"Total number of accepted coupons:\", len(cheap.query(\"Y == 1\")))\n",
        "print(\"Number of acceptances at a distance of 5 minutes or more:\", len(cheap.query(\"Y == 1 and toCoupon_GEQ5min == 1\")))\n",
        "print(\"Number of acceptances at a distance of 15 minutes or more:\", len(cheap.query(\"Y == 1 and toCoupon_GEQ15min == 1\")))\n",
        "print(\"Number of acceptances at a distance of 25 minutes or more:\", len(cheap.query(\"Y == 1 and toCoupon_GEQ25min == 1\")))"
      ]
    },
    {
      "cell_type": "markdown",
      "metadata": {},
      "source": [
        "#### Correlation Between Destination and Acceptance\n",
        "Grouping accepted coupons by the destination the driver was headed."
      ]
    },
    {
      "cell_type": "code",
      "execution_count": 109,
      "metadata": {
        "id": "RrqUWn7d_qRL"
      },
      "outputs": [
        {
          "data": {
            "text/plain": [
              "Text(0.5, 1.0, 'Coupon Acceptance by Destination')"
            ]
          },
          "execution_count": 109,
          "metadata": {},
          "output_type": "execute_result"
        },
        {
          "data": {
            "image/png": "[encoded data removed]",
            "text/plain": [
              "<Figure size 640x480 with 1 Axes>"
            ]
          },
          "metadata": {},
          "output_type": "display_data"
        }
      ],
      "source": [
        "sizes = [len(cheap.query(\"Y == 1 and destination == 'No Urgent Place'\")), len(cheap.query(\"Y == 1 and destination == 'Work'\")), len(cheap.query(\"Y == 1 and destination == 'Home'\"))]\n",
        "labels = [\"No Urgent Place\", \"Work\", \"Home\"]\n",
        "plt.pie(sizes, labels=labels)\n",
        "plt.title(\"Coupon Acceptance by Destination\")"
      ]
    },
    {
      "cell_type": "markdown",
      "metadata": {},
      "source": [
        "# Findings\n",
        "The Question: What are the characteristics of drivers who received coupons for cheap restaurants?\n",
        "To gauge these characteristics, I looked into the income level, distance, and destination.\n",
        "\n",
        "## Income Level\n",
        "I decided to look into the income level because I thought that people receiving coupons for cheap restaurants might be frequenting these venues on their own time since they cannot afford to dine at expensive restaurants.\n",
        "\n",
        "<mark> I used an overlapping bar chart to compare the number of accepted coupons to all given coupons, grouped by income level.</mark>\n",
        "\n",
        "The highest acceptances occurred for people whose incomes fell between $12,500 and $62,500. This fell in line with my initial assumption. However, there was also a high acceptance rate for people who had an income of $100,000 or more. I was surprised to see this, since it seemed like outlying data compared to the section of income that supported my assumption. I didn't assume that people with a high income would still be willing to dine at cheap restaurants.\n",
        "\n",
        "## Distance\n",
        "I decided to look into the correlation between distance and acceptance, since I assumed that people would be less likely to accept a coupon if it was too far away.\n",
        "\n",
        "<mark>I computed the number of acceptances for each of the distance features provided within the dataset.</mark>\n",
        "\n",
        "In line with my assumption, distance and acceptance have an inverse relationship. The number of acceptances decreases as the distance increases.\n",
        "\n",
        "## Destination\n",
        "I decided to look into the destination of the drivers since the urgency of their drive could affect whether they are willing to take a detour.\n",
        "\n",
        "<mark>I used a pie chart to demonstrate the size of each destination category in relation to the others.</mark>\n",
        "\n",
        "The most acceptances occurred when drivers had no urgent destination. The least acceptances occurred when drivers were headed home. This could be attributed to a number of different factors. Perhaps they already had food at home or were on their way to make some, or they were too tired to eat outside and just wanted to get home. This is an aspect of the data that we cannot prove with the data that we have.\n",
        "\n",
        "## Next Steps\n",
        "The investigation of this coupon type is far from complete. In the future, I would look into combining a few features at once. I would also include other columns such as visit frequency, direction, and whether they have kids or are in a relationship (anything that would increase the number of people in their household)."
      ]
    }
  ],
  "metadata": {
    "colab": {
      "provenance": []
    },
    "kernelspec": {
      "display_name": "Python 3 (ipykernel)",
      "language": "python",
      "name": "python3"
    },
    "language_info": {
      "codemirror_mode": {
        "name": "ipython",
        "version": 3
      },
      "file_extension": ".py",
      "mimetype": "text/x-python",
      "name": "python",
      "nbconvert_exporter": "python",
      "pygments_lexer": "ipython3",
      "version": "3.11.1"
    }
  },
  "nbformat": 4,
  "nbformat_minor": 0
}
